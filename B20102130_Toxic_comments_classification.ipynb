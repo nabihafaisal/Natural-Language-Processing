{
  "metadata": {
    "kernelspec": {
      "language": "python",
      "display_name": "Python 3",
      "name": "python3"
    },
    "language_info": {
      "name": "python",
      "version": "3.10.14",
      "mimetype": "text/x-python",
      "codemirror_mode": {
        "name": "ipython",
        "version": 3
      },
      "pygments_lexer": "ipython3",
      "nbconvert_exporter": "python",
      "file_extension": ".py"
    },
    "kaggle": {
      "accelerator": "none",
      "dataSources": [
        {
          "sourceId": 2798066,
          "sourceType": "datasetVersion",
          "datasetId": 1709138
        },
        {
          "sourceId": 4034417,
          "sourceType": "datasetVersion",
          "datasetId": 2390305
        }
      ],
      "isInternetEnabled": true,
      "language": "python",
      "sourceType": "notebook",
      "isGpuEnabled": false
    },
    "colab": {
      "name": "B20102130 Toxic comments classification",
      "provenance": [],
      "include_colab_link": true
    }
  },
  "nbformat_minor": 0,
  "nbformat": 4,
  "cells": [
    {
      "cell_type": "markdown",
      "metadata": {
        "id": "view-in-github",
        "colab_type": "text"
      },
      "source": [
        "<a href=\"https://colab.research.google.com/github/nabihafaisal/Natural-Language-Processing/blob/main/B20102130_Toxic_comments_classification.ipynb\" target=\"_parent\"><img src=\"https://colab.research.google.com/assets/colab-badge.svg\" alt=\"Open In Colab\"/></a>"
      ]
    },
    {
      "source": [
        "# IMPORTANT: RUN THIS CELL IN ORDER TO IMPORT YOUR KAGGLE DATA SOURCES,\n",
        "# THEN FEEL FREE TO DELETE THIS CELL.\n",
        "# NOTE: THIS NOTEBOOK ENVIRONMENT DIFFERS FROM KAGGLE'S PYTHON\n",
        "# ENVIRONMENT SO THERE MAY BE MISSING LIBRARIES USED BY YOUR\n",
        "# NOTEBOOK.\n",
        "import kagglehub\n",
        "julian3833_jigsaw_toxic_comment_classification_challenge_path = kagglehub.dataset_download('julian3833/jigsaw-toxic-comment-classification-challenge')\n",
        "reihanenamdari_youtube_toxicity_data_path = kagglehub.dataset_download('reihanenamdari/youtube-toxicity-data')\n",
        "\n",
        "print('Data source import complete.')\n"
      ],
      "metadata": {
        "id": "AARwc6qRQiik"
      },
      "cell_type": "code",
      "outputs": [],
      "execution_count": null
    },
    {
      "cell_type": "code",
      "source": [
        "# This Python 3 environment comes with many helpful analytics libraries installed\n",
        "# It is defined by the kaggle/python Docker image: https://github.com/kaggle/docker-python\n",
        "# For example, here's several helpful packages to load\n",
        "\n",
        "import numpy as np # linear algebra\n",
        "import pandas as pd # data processing, CSV file I/O (e.g. pd.read_csv)\n",
        "\n",
        "# Input data files are available in the read-only \"../input/\" directory\n",
        "# For example, running this (by clicking run or pressing Shift+Enter) will list all files under the input directory\n",
        "\n",
        "import os\n",
        "for dirname, _, filenames in os.walk('/kaggle/input'):\n",
        "    for filename in filenames:\n",
        "        print(os.path.join(dirname, filename))\n",
        "\n",
        "# You can write up to 20GB to the current directory (/kaggle/working/) that gets preserved as output when you create a version using \"Save & Run All\"\n",
        "# You can also write temporary files to /kaggle/temp/, but they won't be saved outside of the current session"
      ],
      "metadata": {
        "_uuid": "8f2839f25d086af736a60e9eeb907d3b93b6e0e5",
        "_cell_guid": "b1076dfc-b9ad-4769-8c92-a6c4dae69d19",
        "execution": {
          "iopub.status.busy": "2024-10-26T16:11:29.347099Z",
          "iopub.execute_input": "2024-10-26T16:11:29.347495Z",
          "iopub.status.idle": "2024-10-26T16:11:30.344904Z",
          "shell.execute_reply.started": "2024-10-26T16:11:29.347459Z",
          "shell.execute_reply": "2024-10-26T16:11:30.343985Z"
        },
        "trusted": true,
        "id": "1tGnbLCMQiip",
        "outputId": "6ca1ebce-66e9-4b9c-f8f2-09ac58c5e77f"
      },
      "execution_count": null,
      "outputs": [
        {
          "name": "stdout",
          "text": "/kaggle/input/youtube-toxicity-data/youtoxic_english_1000.csv\n/kaggle/input/jigsaw-toxic-comment-classification-challenge/sample_submission.csv\n/kaggle/input/jigsaw-toxic-comment-classification-challenge/test_labels.csv\n/kaggle/input/jigsaw-toxic-comment-classification-challenge/train.csv\n/kaggle/input/jigsaw-toxic-comment-classification-challenge/test.csv\n",
          "output_type": "stream"
        }
      ]
    },
    {
      "cell_type": "code",
      "source": [
        "import numpy as np\n",
        "import pandas as pd\n",
        "from matplotlib import pyplot as plt\n",
        "%matplotlib inline\n",
        "import seaborn as sns\n",
        "import re\n",
        "from wordcloud import WordCloud\n",
        "from sklearn.feature_extraction.text import TfidfVectorizer\n",
        "from sklearn.model_selection import train_test_split\n",
        "from sklearn.metrics import classification_report\n",
        "import tensorflow as tf\n",
        "from tensorflow.keras.models import Sequential\n",
        "from tensorflow.keras.layers import Dense, Dropout\n",
        "from tensorflow.keras.optimizers import Adam\n"
      ],
      "metadata": {
        "execution": {
          "iopub.status.busy": "2024-10-26T16:11:30.346422Z",
          "iopub.execute_input": "2024-10-26T16:11:30.346814Z",
          "iopub.status.idle": "2024-10-26T16:11:44.215461Z",
          "shell.execute_reply.started": "2024-10-26T16:11:30.346781Z",
          "shell.execute_reply": "2024-10-26T16:11:44.214414Z"
        },
        "trusted": true,
        "id": "pyKul89PQiir"
      },
      "execution_count": null,
      "outputs": []
    },
    {
      "cell_type": "code",
      "source": [
        "df1 = pd.read_csv('/kaggle/input/jigsaw-toxic-comment-classification-challenge/train.csv')\n",
        "df2= pd.read_csv('/kaggle/input/youtube-toxicity-data/youtoxic_english_1000.csv')"
      ],
      "metadata": {
        "execution": {
          "iopub.status.busy": "2024-10-26T16:11:44.216761Z",
          "iopub.execute_input": "2024-10-26T16:11:44.217329Z",
          "iopub.status.idle": "2024-10-26T16:11:46.166232Z",
          "shell.execute_reply.started": "2024-10-26T16:11:44.217287Z",
          "shell.execute_reply": "2024-10-26T16:11:46.16536Z"
        },
        "trusted": true,
        "id": "Osq-9t5KQiis"
      },
      "execution_count": null,
      "outputs": []
    },
    {
      "cell_type": "code",
      "source": [
        "pip install transformers torch datasets\n"
      ],
      "metadata": {
        "execution": {
          "iopub.status.busy": "2024-10-26T16:11:46.168309Z",
          "iopub.execute_input": "2024-10-26T16:11:46.168623Z",
          "iopub.status.idle": "2024-10-26T16:11:58.955832Z",
          "shell.execute_reply.started": "2024-10-26T16:11:46.16859Z",
          "shell.execute_reply": "2024-10-26T16:11:58.954708Z"
        },
        "trusted": true,
        "id": "3WUnSdPDQiit",
        "outputId": "2848fb6e-2a89-4503-afeb-f7f617cb0409"
      },
      "execution_count": null,
      "outputs": [
        {
          "name": "stderr",
          "text": "/opt/conda/lib/python3.10/pty.py:89: RuntimeWarning: os.fork() was called. os.fork() is incompatible with multithreaded code, and JAX is multithreaded, so this will likely lead to a deadlock.\n  pid, fd = os.forkpty()\n",
          "output_type": "stream"
        },
        {
          "name": "stdout",
          "text": "Requirement already satisfied: transformers in /opt/conda/lib/python3.10/site-packages (4.45.1)\nRequirement already satisfied: torch in /opt/conda/lib/python3.10/site-packages (2.4.0)\nRequirement already satisfied: datasets in /opt/conda/lib/python3.10/site-packages (3.0.1)\nRequirement already satisfied: filelock in /opt/conda/lib/python3.10/site-packages (from transformers) (3.15.1)\nRequirement already satisfied: huggingface-hub<1.0,>=0.23.2 in /opt/conda/lib/python3.10/site-packages (from transformers) (0.25.1)\nRequirement already satisfied: numpy>=1.17 in /opt/conda/lib/python3.10/site-packages (from transformers) (1.26.4)\nRequirement already satisfied: packaging>=20.0 in /opt/conda/lib/python3.10/site-packages (from transformers) (21.3)\nRequirement already satisfied: pyyaml>=5.1 in /opt/conda/lib/python3.10/site-packages (from transformers) (6.0.2)\nRequirement already satisfied: regex!=2019.12.17 in /opt/conda/lib/python3.10/site-packages (from transformers) (2024.5.15)\nRequirement already satisfied: requests in /opt/conda/lib/python3.10/site-packages (from transformers) (2.32.3)\nRequirement already satisfied: safetensors>=0.4.1 in /opt/conda/lib/python3.10/site-packages (from transformers) (0.4.5)\nRequirement already satisfied: tokenizers<0.21,>=0.20 in /opt/conda/lib/python3.10/site-packages (from transformers) (0.20.0)\nRequirement already satisfied: tqdm>=4.27 in /opt/conda/lib/python3.10/site-packages (from transformers) (4.66.4)\nRequirement already satisfied: typing-extensions>=4.8.0 in /opt/conda/lib/python3.10/site-packages (from torch) (4.12.2)\nRequirement already satisfied: sympy in /opt/conda/lib/python3.10/site-packages (from torch) (1.13.3)\nRequirement already satisfied: networkx in /opt/conda/lib/python3.10/site-packages (from torch) (3.3)\nRequirement already satisfied: jinja2 in /opt/conda/lib/python3.10/site-packages (from torch) (3.1.4)\nRequirement already satisfied: fsspec in /opt/conda/lib/python3.10/site-packages (from torch) (2024.6.1)\nRequirement already satisfied: pyarrow>=15.0.0 in /opt/conda/lib/python3.10/site-packages (from datasets) (16.1.0)\nRequirement already satisfied: dill<0.3.9,>=0.3.0 in /opt/conda/lib/python3.10/site-packages (from datasets) (0.3.8)\nRequirement already satisfied: pandas in /opt/conda/lib/python3.10/site-packages (from datasets) (2.2.2)\nRequirement already satisfied: xxhash in /opt/conda/lib/python3.10/site-packages (from datasets) (3.4.1)\nRequirement already satisfied: multiprocess in /opt/conda/lib/python3.10/site-packages (from datasets) (0.70.16)\nRequirement already satisfied: aiohttp in /opt/conda/lib/python3.10/site-packages (from datasets) (3.9.5)\nRequirement already satisfied: aiosignal>=1.1.2 in /opt/conda/lib/python3.10/site-packages (from aiohttp->datasets) (1.3.1)\nRequirement already satisfied: attrs>=17.3.0 in /opt/conda/lib/python3.10/site-packages (from aiohttp->datasets) (23.2.0)\nRequirement already satisfied: frozenlist>=1.1.1 in /opt/conda/lib/python3.10/site-packages (from aiohttp->datasets) (1.4.1)\nRequirement already satisfied: multidict<7.0,>=4.5 in /opt/conda/lib/python3.10/site-packages (from aiohttp->datasets) (6.0.5)\nRequirement already satisfied: yarl<2.0,>=1.0 in /opt/conda/lib/python3.10/site-packages (from aiohttp->datasets) (1.9.4)\nRequirement already satisfied: async-timeout<5.0,>=4.0 in /opt/conda/lib/python3.10/site-packages (from aiohttp->datasets) (4.0.3)\nRequirement already satisfied: pyparsing!=3.0.5,>=2.0.2 in /opt/conda/lib/python3.10/site-packages (from packaging>=20.0->transformers) (3.1.2)\nRequirement already satisfied: charset-normalizer<4,>=2 in /opt/conda/lib/python3.10/site-packages (from requests->transformers) (3.3.2)\nRequirement already satisfied: idna<4,>=2.5 in /opt/conda/lib/python3.10/site-packages (from requests->transformers) (3.7)\nRequirement already satisfied: urllib3<3,>=1.21.1 in /opt/conda/lib/python3.10/site-packages (from requests->transformers) (1.26.18)\nRequirement already satisfied: certifi>=2017.4.17 in /opt/conda/lib/python3.10/site-packages (from requests->transformers) (2024.8.30)\nRequirement already satisfied: MarkupSafe>=2.0 in /opt/conda/lib/python3.10/site-packages (from jinja2->torch) (2.1.5)\nRequirement already satisfied: python-dateutil>=2.8.2 in /opt/conda/lib/python3.10/site-packages (from pandas->datasets) (2.9.0.post0)\nRequirement already satisfied: pytz>=2020.1 in /opt/conda/lib/python3.10/site-packages (from pandas->datasets) (2024.1)\nRequirement already satisfied: tzdata>=2022.7 in /opt/conda/lib/python3.10/site-packages (from pandas->datasets) (2024.1)\nRequirement already satisfied: mpmath<1.4,>=1.1.0 in /opt/conda/lib/python3.10/site-packages (from sympy->torch) (1.3.0)\nRequirement already satisfied: six>=1.5 in /opt/conda/lib/python3.10/site-packages (from python-dateutil>=2.8.2->pandas->datasets) (1.16.0)\nNote: you may need to restart the kernel to use updated packages.\n",
          "output_type": "stream"
        }
      ]
    },
    {
      "cell_type": "code",
      "source": [
        "import torch\n",
        "from transformers import BertTokenizer, BertForSequenceClassification, Trainer, TrainingArguments\n",
        "from sklearn.model_selection import train_test_split\n",
        "from datasets import Dataset\n"
      ],
      "metadata": {
        "execution": {
          "iopub.status.busy": "2024-10-26T16:11:58.957166Z",
          "iopub.execute_input": "2024-10-26T16:11:58.957493Z",
          "iopub.status.idle": "2024-10-26T16:12:05.909026Z",
          "shell.execute_reply.started": "2024-10-26T16:11:58.95746Z",
          "shell.execute_reply": "2024-10-26T16:12:05.90821Z"
        },
        "trusted": true,
        "id": "2arcaUaqQiit"
      },
      "execution_count": null,
      "outputs": []
    },
    {
      "cell_type": "code",
      "source": [
        "df1.head()"
      ],
      "metadata": {
        "execution": {
          "iopub.status.busy": "2024-10-26T16:12:05.910523Z",
          "iopub.execute_input": "2024-10-26T16:12:05.911238Z",
          "iopub.status.idle": "2024-10-26T16:12:05.934145Z",
          "shell.execute_reply.started": "2024-10-26T16:12:05.911199Z",
          "shell.execute_reply": "2024-10-26T16:12:05.93324Z"
        },
        "trusted": true,
        "id": "Zy-5rwaVQiiu",
        "outputId": "55cebb60-3559-43ff-df89-bd4395e2f45c"
      },
      "execution_count": null,
      "outputs": [
        {
          "execution_count": 6,
          "output_type": "execute_result",
          "data": {
            "text/plain": "                 id                                       comment_text  toxic  \\\n0  0000997932d777bf  Explanation\\nWhy the edits made under my usern...      0   \n1  000103f0d9cfb60f  D'aww! He matches this background colour I'm s...      0   \n2  000113f07ec002fd  Hey man, I'm really not trying to edit war. It...      0   \n3  0001b41b1c6bb37e  \"\\nMore\\nI can't make any real suggestions on ...      0   \n4  0001d958c54c6e35  You, sir, are my hero. Any chance you remember...      0   \n\n   severe_toxic  obscene  threat  insult  identity_hate  \n0             0        0       0       0              0  \n1             0        0       0       0              0  \n2             0        0       0       0              0  \n3             0        0       0       0              0  \n4             0        0       0       0              0  ",
            "text/html": "<div>\n<style scoped>\n    .dataframe tbody tr th:only-of-type {\n        vertical-align: middle;\n    }\n\n    .dataframe tbody tr th {\n        vertical-align: top;\n    }\n\n    .dataframe thead th {\n        text-align: right;\n    }\n</style>\n<table border=\"1\" class=\"dataframe\">\n  <thead>\n    <tr style=\"text-align: right;\">\n      <th></th>\n      <th>id</th>\n      <th>comment_text</th>\n      <th>toxic</th>\n      <th>severe_toxic</th>\n      <th>obscene</th>\n      <th>threat</th>\n      <th>insult</th>\n      <th>identity_hate</th>\n    </tr>\n  </thead>\n  <tbody>\n    <tr>\n      <th>0</th>\n      <td>0000997932d777bf</td>\n      <td>Explanation\\nWhy the edits made under my usern...</td>\n      <td>0</td>\n      <td>0</td>\n      <td>0</td>\n      <td>0</td>\n      <td>0</td>\n      <td>0</td>\n    </tr>\n    <tr>\n      <th>1</th>\n      <td>000103f0d9cfb60f</td>\n      <td>D'aww! He matches this background colour I'm s...</td>\n      <td>0</td>\n      <td>0</td>\n      <td>0</td>\n      <td>0</td>\n      <td>0</td>\n      <td>0</td>\n    </tr>\n    <tr>\n      <th>2</th>\n      <td>000113f07ec002fd</td>\n      <td>Hey man, I'm really not trying to edit war. It...</td>\n      <td>0</td>\n      <td>0</td>\n      <td>0</td>\n      <td>0</td>\n      <td>0</td>\n      <td>0</td>\n    </tr>\n    <tr>\n      <th>3</th>\n      <td>0001b41b1c6bb37e</td>\n      <td>\"\\nMore\\nI can't make any real suggestions on ...</td>\n      <td>0</td>\n      <td>0</td>\n      <td>0</td>\n      <td>0</td>\n      <td>0</td>\n      <td>0</td>\n    </tr>\n    <tr>\n      <th>4</th>\n      <td>0001d958c54c6e35</td>\n      <td>You, sir, are my hero. Any chance you remember...</td>\n      <td>0</td>\n      <td>0</td>\n      <td>0</td>\n      <td>0</td>\n      <td>0</td>\n      <td>0</td>\n    </tr>\n  </tbody>\n</table>\n</div>"
          },
          "metadata": {}
        }
      ]
    },
    {
      "cell_type": "code",
      "source": [
        "df2.head()"
      ],
      "metadata": {
        "execution": {
          "iopub.status.busy": "2024-10-26T16:12:05.935502Z",
          "iopub.execute_input": "2024-10-26T16:12:05.935808Z",
          "iopub.status.idle": "2024-10-26T16:12:05.952783Z",
          "shell.execute_reply.started": "2024-10-26T16:12:05.935776Z",
          "shell.execute_reply": "2024-10-26T16:12:05.951901Z"
        },
        "trusted": true,
        "id": "3F0kky0pQiiv",
        "outputId": "39b8bf3e-7caf-4b01-9725-9fa49ea1dc44"
      },
      "execution_count": null,
      "outputs": [
        {
          "execution_count": 7,
          "output_type": "execute_result",
          "data": {
            "text/plain": "              CommentId      VideoId  \\\n0  Ugg2KwwX0V8-aXgCoAEC  04kJtp6pVXI   \n1  Ugg2s5AzSPioEXgCoAEC  04kJtp6pVXI   \n2  Ugg3dWTOxryFfHgCoAEC  04kJtp6pVXI   \n3  Ugg7Gd006w1MPngCoAEC  04kJtp6pVXI   \n4  Ugg8FfTbbNF8IngCoAEC  04kJtp6pVXI   \n\n                                                Text  IsToxic  IsAbusive  \\\n0  If only people would just take a step back and...    False      False   \n1  Law enforcement is not trained to shoot to app...     True       True   \n2  \\nDont you reckon them 'black lives matter' ba...     True       True   \n3  There are a very large number of people who do...    False      False   \n4  The Arab dude is absolutely right, he should h...    False      False   \n\n   IsThreat  IsProvocative  IsObscene  IsHatespeech  IsRacist  IsNationalist  \\\n0     False          False      False         False     False          False   \n1     False          False      False         False     False          False   \n2     False          False       True         False     False          False   \n3     False          False      False         False     False          False   \n4     False          False      False         False     False          False   \n\n   IsSexist  IsHomophobic  IsReligiousHate  IsRadicalism  \n0     False         False            False         False  \n1     False         False            False         False  \n2     False         False            False         False  \n3     False         False            False         False  \n4     False         False            False         False  ",
            "text/html": "<div>\n<style scoped>\n    .dataframe tbody tr th:only-of-type {\n        vertical-align: middle;\n    }\n\n    .dataframe tbody tr th {\n        vertical-align: top;\n    }\n\n    .dataframe thead th {\n        text-align: right;\n    }\n</style>\n<table border=\"1\" class=\"dataframe\">\n  <thead>\n    <tr style=\"text-align: right;\">\n      <th></th>\n      <th>CommentId</th>\n      <th>VideoId</th>\n      <th>Text</th>\n      <th>IsToxic</th>\n      <th>IsAbusive</th>\n      <th>IsThreat</th>\n      <th>IsProvocative</th>\n      <th>IsObscene</th>\n      <th>IsHatespeech</th>\n      <th>IsRacist</th>\n      <th>IsNationalist</th>\n      <th>IsSexist</th>\n      <th>IsHomophobic</th>\n      <th>IsReligiousHate</th>\n      <th>IsRadicalism</th>\n    </tr>\n  </thead>\n  <tbody>\n    <tr>\n      <th>0</th>\n      <td>Ugg2KwwX0V8-aXgCoAEC</td>\n      <td>04kJtp6pVXI</td>\n      <td>If only people would just take a step back and...</td>\n      <td>False</td>\n      <td>False</td>\n      <td>False</td>\n      <td>False</td>\n      <td>False</td>\n      <td>False</td>\n      <td>False</td>\n      <td>False</td>\n      <td>False</td>\n      <td>False</td>\n      <td>False</td>\n      <td>False</td>\n    </tr>\n    <tr>\n      <th>1</th>\n      <td>Ugg2s5AzSPioEXgCoAEC</td>\n      <td>04kJtp6pVXI</td>\n      <td>Law enforcement is not trained to shoot to app...</td>\n      <td>True</td>\n      <td>True</td>\n      <td>False</td>\n      <td>False</td>\n      <td>False</td>\n      <td>False</td>\n      <td>False</td>\n      <td>False</td>\n      <td>False</td>\n      <td>False</td>\n      <td>False</td>\n      <td>False</td>\n    </tr>\n    <tr>\n      <th>2</th>\n      <td>Ugg3dWTOxryFfHgCoAEC</td>\n      <td>04kJtp6pVXI</td>\n      <td>\\nDont you reckon them 'black lives matter' ba...</td>\n      <td>True</td>\n      <td>True</td>\n      <td>False</td>\n      <td>False</td>\n      <td>True</td>\n      <td>False</td>\n      <td>False</td>\n      <td>False</td>\n      <td>False</td>\n      <td>False</td>\n      <td>False</td>\n      <td>False</td>\n    </tr>\n    <tr>\n      <th>3</th>\n      <td>Ugg7Gd006w1MPngCoAEC</td>\n      <td>04kJtp6pVXI</td>\n      <td>There are a very large number of people who do...</td>\n      <td>False</td>\n      <td>False</td>\n      <td>False</td>\n      <td>False</td>\n      <td>False</td>\n      <td>False</td>\n      <td>False</td>\n      <td>False</td>\n      <td>False</td>\n      <td>False</td>\n      <td>False</td>\n      <td>False</td>\n    </tr>\n    <tr>\n      <th>4</th>\n      <td>Ugg8FfTbbNF8IngCoAEC</td>\n      <td>04kJtp6pVXI</td>\n      <td>The Arab dude is absolutely right, he should h...</td>\n      <td>False</td>\n      <td>False</td>\n      <td>False</td>\n      <td>False</td>\n      <td>False</td>\n      <td>False</td>\n      <td>False</td>\n      <td>False</td>\n      <td>False</td>\n      <td>False</td>\n      <td>False</td>\n      <td>False</td>\n    </tr>\n  </tbody>\n</table>\n</div>"
          },
          "metadata": {}
        }
      ]
    },
    {
      "cell_type": "code",
      "source": [
        "# Process df1\n",
        "df1['Toxic'] = df1.iloc[:, 2:].any(axis=1)\n",
        "df1_processed = df1[['comment_text', 'Toxic']].rename(columns={'comment_text': 'Text'})\n",
        "\n",
        "# Process df2\n",
        "df2['Toxic'] = df2.iloc[:, 3:].any(axis=1)\n",
        "df2_processed = df2[['Text', 'Toxic']]\n",
        "\n",
        "# Combine df1_processed and df2_processed\n",
        "df = pd.concat([df1_processed, df2_processed], ignore_index=True)\n",
        "\n",
        "# Display the first few rows of final_df\n",
        "print(df.head())"
      ],
      "metadata": {
        "execution": {
          "iopub.status.busy": "2024-10-26T16:12:05.954081Z",
          "iopub.execute_input": "2024-10-26T16:12:05.954563Z",
          "iopub.status.idle": "2024-10-26T16:12:06.013356Z",
          "shell.execute_reply.started": "2024-10-26T16:12:05.95452Z",
          "shell.execute_reply": "2024-10-26T16:12:06.01237Z"
        },
        "trusted": true,
        "id": "UhN4vs8xQiiw",
        "outputId": "df65973e-761f-4261-9f8a-a542b6cc38cf"
      },
      "execution_count": null,
      "outputs": [
        {
          "name": "stdout",
          "text": "                                                Text  Toxic\n0  Explanation\\nWhy the edits made under my usern...  False\n1  D'aww! He matches this background colour I'm s...  False\n2  Hey man, I'm really not trying to edit war. It...  False\n3  \"\\nMore\\nI can't make any real suggestions on ...  False\n4  You, sir, are my hero. Any chance you remember...  False\n",
          "output_type": "stream"
        }
      ]
    },
    {
      "cell_type": "code",
      "source": [
        "df.describe()"
      ],
      "metadata": {
        "execution": {
          "iopub.status.busy": "2024-10-26T16:12:06.014631Z",
          "iopub.execute_input": "2024-10-26T16:12:06.014941Z",
          "iopub.status.idle": "2024-10-26T16:12:06.242996Z",
          "shell.execute_reply.started": "2024-10-26T16:12:06.014908Z",
          "shell.execute_reply": "2024-10-26T16:12:06.242088Z"
        },
        "trusted": true,
        "id": "N6hAuhF1Qii0",
        "outputId": "eaf928ee-d512-4e78-9d8d-ec862481ea31"
      },
      "execution_count": null,
      "outputs": [
        {
          "execution_count": 9,
          "output_type": "execute_result",
          "data": {
            "text/plain": "                 Text   Toxic\ncount          160571  160571\nunique         160568       2\ntop     run them over   False\nfreq                3  143884",
            "text/html": "<div>\n<style scoped>\n    .dataframe tbody tr th:only-of-type {\n        vertical-align: middle;\n    }\n\n    .dataframe tbody tr th {\n        vertical-align: top;\n    }\n\n    .dataframe thead th {\n        text-align: right;\n    }\n</style>\n<table border=\"1\" class=\"dataframe\">\n  <thead>\n    <tr style=\"text-align: right;\">\n      <th></th>\n      <th>Text</th>\n      <th>Toxic</th>\n    </tr>\n  </thead>\n  <tbody>\n    <tr>\n      <th>count</th>\n      <td>160571</td>\n      <td>160571</td>\n    </tr>\n    <tr>\n      <th>unique</th>\n      <td>160568</td>\n      <td>2</td>\n    </tr>\n    <tr>\n      <th>top</th>\n      <td>run them over</td>\n      <td>False</td>\n    </tr>\n    <tr>\n      <th>freq</th>\n      <td>3</td>\n      <td>143884</td>\n    </tr>\n  </tbody>\n</table>\n</div>"
          },
          "metadata": {}
        }
      ]
    },
    {
      "cell_type": "code",
      "source": [
        "print(df.dtypes)\n",
        "print(df.isnull().sum())"
      ],
      "metadata": {
        "execution": {
          "iopub.status.busy": "2024-10-26T16:12:06.246742Z",
          "iopub.execute_input": "2024-10-26T16:12:06.247059Z",
          "iopub.status.idle": "2024-10-26T16:12:06.273013Z",
          "shell.execute_reply.started": "2024-10-26T16:12:06.247026Z",
          "shell.execute_reply": "2024-10-26T16:12:06.272021Z"
        },
        "trusted": true,
        "id": "ezHaU0ZoQii1",
        "outputId": "df8e7371-d7de-4505-b50c-e2206f09d8e0"
      },
      "execution_count": null,
      "outputs": [
        {
          "name": "stdout",
          "text": "Text     object\nToxic      bool\ndtype: object\nText     0\nToxic    0\ndtype: int64\n",
          "output_type": "stream"
        }
      ]
    },
    {
      "cell_type": "code",
      "source": [
        "# Check for duplicate comments\n",
        "duplicate_rows = df[df.duplicated(subset=['Text'], keep=False)]\n",
        "print(\"Duplicate rows based on 'Text' column:\")\n",
        "print(duplicate_rows)\n",
        "\n",
        "# Drop duplicate comments\n",
        "df.drop_duplicates(subset=['Text'], keep='first', inplace=True)\n",
        "\n",
        "# Confirm duplicates are removed\n",
        "print(\"Number of rows after removing duplicates:\", len(df))\n",
        "\n",
        "# Reindex the DataFrame after dropping duplicates\n",
        "df.reset_index(drop=True, inplace=True)"
      ],
      "metadata": {
        "execution": {
          "iopub.status.busy": "2024-10-26T16:12:06.273974Z",
          "iopub.execute_input": "2024-10-26T16:12:06.27434Z",
          "iopub.status.idle": "2024-10-26T16:12:06.343659Z",
          "shell.execute_reply.started": "2024-10-26T16:12:06.274283Z",
          "shell.execute_reply": "2024-10-26T16:12:06.342624Z"
        },
        "trusted": true,
        "id": "oDTsAYEXQii2",
        "outputId": "8a32ce66-688f-48dd-86bf-50ede09ca710"
      },
      "execution_count": null,
      "outputs": [
        {
          "name": "stdout",
          "text": "Duplicate rows based on 'Text' column:\n                 Text  Toxic\n160163  RUN THEM OVER   True\n160213  run them over   True\n160228  run them over   True\n160248  run them over   True\n160270  RUN THEM OVER   True\nNumber of rows after removing duplicates: 160568\n",
          "output_type": "stream"
        }
      ]
    },
    {
      "cell_type": "code",
      "source": [
        "# Distribution of 'Toxic' column\n",
        "toxic_distribution = df['Toxic'].value_counts()\n",
        "print(toxic_distribution)"
      ],
      "metadata": {
        "execution": {
          "iopub.status.busy": "2024-10-26T16:12:06.344735Z",
          "iopub.execute_input": "2024-10-26T16:12:06.34503Z",
          "iopub.status.idle": "2024-10-26T16:12:06.352199Z",
          "shell.execute_reply.started": "2024-10-26T16:12:06.345Z",
          "shell.execute_reply": "2024-10-26T16:12:06.351236Z"
        },
        "trusted": true,
        "id": "Kva7vqT1Qii2",
        "outputId": "b2d653b3-6882-4ad4-8615-113ff1ec791b"
      },
      "execution_count": null,
      "outputs": [
        {
          "name": "stdout",
          "text": "Toxic\nFalse    143884\nTrue      16684\nName: count, dtype: int64\n",
          "output_type": "stream"
        }
      ]
    },
    {
      "cell_type": "code",
      "source": [
        "# Convert True to 1 and False to 0 in the 'Toxic' column\n",
        "df['Toxic'] = df['Toxic'].astype(int)"
      ],
      "metadata": {
        "execution": {
          "iopub.status.busy": "2024-10-26T16:12:06.3534Z",
          "iopub.execute_input": "2024-10-26T16:12:06.35375Z",
          "iopub.status.idle": "2024-10-26T16:12:06.36123Z",
          "shell.execute_reply.started": "2024-10-26T16:12:06.353716Z",
          "shell.execute_reply": "2024-10-26T16:12:06.360247Z"
        },
        "trusted": true,
        "id": "OVac9m60Qii2"
      },
      "execution_count": null,
      "outputs": []
    },
    {
      "cell_type": "code",
      "source": [
        "def clean_text(text):\n",
        "    text = text.lower()\n",
        "    text = re.sub(r\"what's\", \"what is \", text)\n",
        "    text = re.sub(r\"\\'s\", \" \", text)\n",
        "    text = re.sub(r\"\\'ve\", \" have \", text)\n",
        "    text = re.sub(r\"can't\", \"cannot \", text)\n",
        "    text = re.sub(r\"n't\", \" not \", text)\n",
        "    text = re.sub(r\"i'm\", \"i am \", text)\n",
        "    text = re.sub(r\"\\'re\", \" are \", text)\n",
        "    text = re.sub(r\"\\'d\", \" would \", text)\n",
        "    text = re.sub(r\"\\'ll\", \" will \", text)\n",
        "    text = re.sub(r\"\\'scuse\", \" excuse \", text)\n",
        "    text = re.sub('\\W', ' ', text)\n",
        "    text = re.sub('\\s+', ' ', text)\n",
        "    text = text.strip(' ')\n",
        "    return text"
      ],
      "metadata": {
        "execution": {
          "iopub.status.busy": "2024-10-26T16:12:06.362421Z",
          "iopub.execute_input": "2024-10-26T16:12:06.362785Z",
          "iopub.status.idle": "2024-10-26T16:12:06.372165Z",
          "shell.execute_reply.started": "2024-10-26T16:12:06.362741Z",
          "shell.execute_reply": "2024-10-26T16:12:06.371436Z"
        },
        "trusted": true,
        "id": "iVHzi7uYQii3"
      },
      "execution_count": null,
      "outputs": []
    },
    {
      "cell_type": "code",
      "source": [
        "df['Text'] = df['Text'].map(lambda com : clean_text(com))"
      ],
      "metadata": {
        "execution": {
          "iopub.status.busy": "2024-10-26T16:12:06.373464Z",
          "iopub.execute_input": "2024-10-26T16:12:06.374092Z",
          "iopub.status.idle": "2024-10-26T16:12:19.351719Z",
          "shell.execute_reply.started": "2024-10-26T16:12:06.374047Z",
          "shell.execute_reply": "2024-10-26T16:12:19.350626Z"
        },
        "trusted": true,
        "id": "_3gSSnb5Qii3"
      },
      "execution_count": null,
      "outputs": []
    },
    {
      "cell_type": "code",
      "source": [
        "df\n"
      ],
      "metadata": {
        "execution": {
          "iopub.status.busy": "2024-10-26T16:12:19.352973Z",
          "iopub.execute_input": "2024-10-26T16:12:19.353346Z",
          "iopub.status.idle": "2024-10-26T16:12:19.36406Z",
          "shell.execute_reply.started": "2024-10-26T16:12:19.353312Z",
          "shell.execute_reply": "2024-10-26T16:12:19.363279Z"
        },
        "trusted": true,
        "id": "aco7sPg4Qii3",
        "outputId": "3f6cfe7a-8d78-4d25-edb0-72802118578e"
      },
      "execution_count": null,
      "outputs": [
        {
          "execution_count": 16,
          "output_type": "execute_result",
          "data": {
            "text/plain": "                                                     Text  Toxic\n0       explanation why the edits made under my userna...      0\n1       d aww he matches this background colour i am s...      0\n2       hey man i am really not trying to edit war it ...      0\n3       more i cannot make any real suggestions on imp...      0\n4       you sir are my hero any chance you remember wh...      0\n...                                                   ...    ...\n160563  i remember that they sent in the national defe...      0\n160564  stats don t represent the problem race baiting...      1\n160565  the quote from the mother wow that hit hard ve...      0\n160566                            this video is so racist      0\n160567         god the narrator has such an annoying lisp      0\n\n[160568 rows x 2 columns]",
            "text/html": "<div>\n<style scoped>\n    .dataframe tbody tr th:only-of-type {\n        vertical-align: middle;\n    }\n\n    .dataframe tbody tr th {\n        vertical-align: top;\n    }\n\n    .dataframe thead th {\n        text-align: right;\n    }\n</style>\n<table border=\"1\" class=\"dataframe\">\n  <thead>\n    <tr style=\"text-align: right;\">\n      <th></th>\n      <th>Text</th>\n      <th>Toxic</th>\n    </tr>\n  </thead>\n  <tbody>\n    <tr>\n      <th>0</th>\n      <td>explanation why the edits made under my userna...</td>\n      <td>0</td>\n    </tr>\n    <tr>\n      <th>1</th>\n      <td>d aww he matches this background colour i am s...</td>\n      <td>0</td>\n    </tr>\n    <tr>\n      <th>2</th>\n      <td>hey man i am really not trying to edit war it ...</td>\n      <td>0</td>\n    </tr>\n    <tr>\n      <th>3</th>\n      <td>more i cannot make any real suggestions on imp...</td>\n      <td>0</td>\n    </tr>\n    <tr>\n      <th>4</th>\n      <td>you sir are my hero any chance you remember wh...</td>\n      <td>0</td>\n    </tr>\n    <tr>\n      <th>...</th>\n      <td>...</td>\n      <td>...</td>\n    </tr>\n    <tr>\n      <th>160563</th>\n      <td>i remember that they sent in the national defe...</td>\n      <td>0</td>\n    </tr>\n    <tr>\n      <th>160564</th>\n      <td>stats don t represent the problem race baiting...</td>\n      <td>1</td>\n    </tr>\n    <tr>\n      <th>160565</th>\n      <td>the quote from the mother wow that hit hard ve...</td>\n      <td>0</td>\n    </tr>\n    <tr>\n      <th>160566</th>\n      <td>this video is so racist</td>\n      <td>0</td>\n    </tr>\n    <tr>\n      <th>160567</th>\n      <td>god the narrator has such an annoying lisp</td>\n      <td>0</td>\n    </tr>\n  </tbody>\n</table>\n<p>160568 rows × 2 columns</p>\n</div>"
          },
          "metadata": {}
        }
      ]
    },
    {
      "cell_type": "code",
      "source": [
        "from imblearn.over_sampling import RandomOverSampler\n",
        "ros = RandomOverSampler()\n",
        "train_x, train_y = ros.fit_resample(np.array(df['Text']).reshape(-1, 1), np.array(df['Toxic']).reshape(-1, 1));\n",
        "train_os = pd.DataFrame(list(zip([x[0] for x in train_x], train_y)), columns = ['Text', 'Toxic']);"
      ],
      "metadata": {
        "execution": {
          "iopub.status.busy": "2024-10-26T16:12:19.365662Z",
          "iopub.execute_input": "2024-10-26T16:12:19.365959Z",
          "iopub.status.idle": "2024-10-26T16:12:20.907668Z",
          "shell.execute_reply.started": "2024-10-26T16:12:19.365926Z",
          "shell.execute_reply": "2024-10-26T16:12:20.906392Z"
        },
        "trusted": true,
        "id": "SJkswCyiQii3"
      },
      "execution_count": null,
      "outputs": []
    },
    {
      "cell_type": "code",
      "source": [
        "train_os['Toxic'].value_counts()"
      ],
      "metadata": {
        "execution": {
          "iopub.status.busy": "2024-10-26T16:12:20.909104Z",
          "iopub.execute_input": "2024-10-26T16:12:20.910305Z",
          "iopub.status.idle": "2024-10-26T16:12:20.92274Z",
          "shell.execute_reply.started": "2024-10-26T16:12:20.910255Z",
          "shell.execute_reply": "2024-10-26T16:12:20.921695Z"
        },
        "trusted": true,
        "id": "aybFxduFQii3",
        "outputId": "ab501ef5-645d-4c17-9ab6-6c5c6dc67186"
      },
      "execution_count": null,
      "outputs": [
        {
          "execution_count": 18,
          "output_type": "execute_result",
          "data": {
            "text/plain": "Toxic\n0    143884\n1    143884\nName: count, dtype: int64"
          },
          "metadata": {}
        }
      ]
    },
    {
      "cell_type": "code",
      "source": [
        "X = train_os['Text'].values\n",
        "y = train_os['Toxic'].values\n",
        "\n",
        "print(X.shape)\n",
        "print(y.shape)"
      ],
      "metadata": {
        "execution": {
          "iopub.status.busy": "2024-10-26T16:12:20.923846Z",
          "iopub.execute_input": "2024-10-26T16:12:20.924149Z",
          "iopub.status.idle": "2024-10-26T16:12:20.93193Z",
          "shell.execute_reply.started": "2024-10-26T16:12:20.924104Z",
          "shell.execute_reply": "2024-10-26T16:12:20.930989Z"
        },
        "trusted": true,
        "id": "fVAjza19Qii4",
        "outputId": "c0b8b55f-7273-4bd6-ce11-b815b9a44436"
      },
      "execution_count": null,
      "outputs": [
        {
          "name": "stdout",
          "text": "(287768,)\n(287768,)\n",
          "output_type": "stream"
        }
      ]
    },
    {
      "cell_type": "code",
      "source": [
        "# Bar plot for toxic vs non-toxic comments\n",
        "plt.figure(figsize=(8, 6))\n",
        "toxic_counts = train_os['Toxic'].value_counts()\n",
        "toxic_counts.plot(kind='bar', color=['green', 'red'])\n",
        "plt.title('Toxic vs Non-Toxic Comments')\n",
        "plt.xlabel('Toxic')\n",
        "plt.ylabel('Count')\n",
        "plt.xticks(rotation=0)\n",
        "plt.show()"
      ],
      "metadata": {
        "execution": {
          "iopub.status.busy": "2024-10-26T16:12:20.933008Z",
          "iopub.execute_input": "2024-10-26T16:12:20.933342Z",
          "iopub.status.idle": "2024-10-26T16:12:21.236842Z",
          "shell.execute_reply.started": "2024-10-26T16:12:20.933303Z",
          "shell.execute_reply": "2024-10-26T16:12:21.235894Z"
        },
        "trusted": true,
        "id": "aNKGxHxaQii4",
        "outputId": "35d78b4f-d400-47c3-bfc3-ac4b65d984ab"
      },
      "execution_count": null,
      "outputs": [
        {
          "output_type": "display_data",
          "data": {
            "text/plain": "<Figure size 800x600 with 1 Axes>",
            "image/png": "[encoded data removed]"
          },
          "metadata": {}
        }
      ]
    },
    {
      "cell_type": "code",
      "source": [
        "\n",
        "# Train-test split\n",
        "x_train, x_test, y_train, y_test = train_test_split(X, y, test_size=0.2, random_state=42)"
      ],
      "metadata": {
        "execution": {
          "iopub.status.busy": "2024-10-26T16:12:21.238268Z",
          "iopub.execute_input": "2024-10-26T16:12:21.238671Z",
          "iopub.status.idle": "2024-10-26T16:12:21.269971Z",
          "shell.execute_reply.started": "2024-10-26T16:12:21.238626Z",
          "shell.execute_reply": "2024-10-26T16:12:21.269198Z"
        },
        "trusted": true,
        "id": "fv3pWrgjQii4"
      },
      "execution_count": null,
      "outputs": []
    },
    {
      "cell_type": "code",
      "source": [
        "print(type(x_train))\n",
        "print(x_train[:5])"
      ],
      "metadata": {
        "execution": {
          "iopub.status.busy": "2024-10-26T16:12:21.271104Z",
          "iopub.execute_input": "2024-10-26T16:12:21.271508Z",
          "iopub.status.idle": "2024-10-26T16:12:21.276828Z",
          "shell.execute_reply.started": "2024-10-26T16:12:21.271464Z",
          "shell.execute_reply": "2024-10-26T16:12:21.275841Z"
        },
        "trusted": true,
        "id": "c5gEobNAQii4",
        "outputId": "3dcba5fd-dafc-408b-90ff-25b2267ef43b"
      },
      "execution_count": null,
      "outputs": [
        {
          "name": "stdout",
          "text": "<class 'numpy.ndarray'>\n['support proper term is battle of tripoli 2011 like battle of kandahar 2011 arkjedi10'\n 'hilarious even without the en dash thing i keep reading post hotree fuck talk'\n 'opinoso you are clearly biased in editing brazil information it has been documented how you have engaged in many editing wars like with donado with anyone who disagrees with your perception of the ethnicity of brazil you seem to want the ethnicity of brazil to conform to your own ethnicity apparently portuguese italian and african and you seem to be fighting with an obsession any different ethnicities in brazil than your own like the true number of german brazilians please just stop editing on brazil'\n 'you all think you are fucking experts because you control the information on wikiplagirism you are all at fault for contributing to the age of misinformation no longer does academic fact stand for anything now it is all about majority fool you stupid fucks you are destroying our world eat shit love kevin'\n 'hi paula great job someone gotta straighten all these naughty guys out heartening to see you putting all your soul into it good girl 0 hey paula darling listen do not let deletions and silly accusations without any base whatsoever earn you the wrath of bloodthirsty admins not in your interest you oghta play it cleverly let them see what happened and judge accordingly canadian teenager girls tend to get the brunt of bad vipes here you are no exception even though you try to pass yourself off as a boy so just show all that you gotta show i ll help you for the time being dont go on making a fool of yourself paula the whole school is laughing already too bad that you cannot quit popping that stuff drugs are gonna get you in trouble one day much more then the stuff you do with half the guys in our class at the movies jonathan told his mom when she asked what the spots on his pants were stop lying stop accusing people of sockpuppetry who seem continents apart stop hiding exactly those tracks about you that you accuse others of you get yourself into a shambles credibility wise anyhow what business of yours is it what people without remotest relation to you do on wikipedia you seem drunk on drugs and having your period']\n",
          "output_type": "stream"
        }
      ]
    },
    {
      "cell_type": "code",
      "source": [
        "\n",
        "# Load tokenizer\n",
        "tokenizer = BertTokenizer.from_pretrained('bert-base-uncased')"
      ],
      "metadata": {
        "execution": {
          "iopub.status.busy": "2024-10-26T16:12:21.277963Z",
          "iopub.execute_input": "2024-10-26T16:12:21.278287Z",
          "iopub.status.idle": "2024-10-26T16:12:23.005226Z",
          "shell.execute_reply.started": "2024-10-26T16:12:21.278256Z",
          "shell.execute_reply": "2024-10-26T16:12:23.004214Z"
        },
        "trusted": true,
        "id": "PUPy-AUOQii4",
        "outputId": "c257e3e5-e0b0-40a3-de60-2163ebcde866",
        "colab": {
          "referenced_widgets": [
            "312b2f34c0cc473e9076bd3f9b8dd42b",
            "e320b2b3dc1046a8bc51adeeb373a5a8",
            "38f9a4f70d0b47d7aedec880e607f64f",
            "d69bc079de254207a1dba5a133a6d133"
          ]
        }
      },
      "execution_count": null,
      "outputs": [
        {
          "output_type": "display_data",
          "data": {
            "text/plain": "tokenizer_config.json:   0%|          | 0.00/48.0 [00:00<?, ?B/s]",
            "application/vnd.jupyter.widget-view+json": {
              "version_major": 2,
              "version_minor": 0,
              "model_id": "312b2f34c0cc473e9076bd3f9b8dd42b"
            }
          },
          "metadata": {}
        },
        {
          "output_type": "display_data",
          "data": {
            "text/plain": "vocab.txt:   0%|          | 0.00/232k [00:00<?, ?B/s]",
            "application/vnd.jupyter.widget-view+json": {
              "version_major": 2,
              "version_minor": 0,
              "model_id": "e320b2b3dc1046a8bc51adeeb373a5a8"
            }
          },
          "metadata": {}
        },
        {
          "output_type": "display_data",
          "data": {
            "text/plain": "tokenizer.json:   0%|          | 0.00/466k [00:00<?, ?B/s]",
            "application/vnd.jupyter.widget-view+json": {
              "version_major": 2,
              "version_minor": 0,
              "model_id": "38f9a4f70d0b47d7aedec880e607f64f"
            }
          },
          "metadata": {}
        },
        {
          "output_type": "display_data",
          "data": {
            "text/plain": "config.json:   0%|          | 0.00/570 [00:00<?, ?B/s]",
            "application/vnd.jupyter.widget-view+json": {
              "version_major": 2,
              "version_minor": 0,
              "model_id": "d69bc079de254207a1dba5a133a6d133"
            }
          },
          "metadata": {}
        }
      ]
    },
    {
      "cell_type": "code",
      "source": [
        "\n",
        "# # Extract the text and labels from the DataFrame\n",
        "# texts = df['Text'].tolist()  # list of comments\n",
        "# labels = df['Toxic'].tolist()  # list of labels\n",
        "\n",
        "\n",
        "def tokenize_data(texts):\n",
        "    return tokenizer(texts, padding=True, truncation=True, max_length=128, return_tensors='pt')\n",
        "# Apply tokenization\n",
        "#encodings = tokenize_data(texts)"
      ],
      "metadata": {
        "execution": {
          "iopub.status.busy": "2024-10-26T16:12:23.006516Z",
          "iopub.execute_input": "2024-10-26T16:12:23.006844Z",
          "iopub.status.idle": "2024-10-26T16:12:23.011821Z",
          "shell.execute_reply.started": "2024-10-26T16:12:23.006813Z",
          "shell.execute_reply": "2024-10-26T16:12:23.010793Z"
        },
        "trusted": true,
        "id": "y1kxYVuUQii4"
      },
      "execution_count": null,
      "outputs": []
    },
    {
      "cell_type": "code",
      "source": [
        "# Convert numpy arrays to lists of strings\n",
        "x_train = x_train.astype(str).tolist()\n",
        "x_test = x_test.astype(str).tolist()\n",
        "\n",
        "# Tokenize the train and test sets separately\n",
        "train_encodings = tokenize_data(x_train)\n",
        "test_encodings = tokenize_data(x_test)\n"
      ],
      "metadata": {
        "execution": {
          "iopub.status.busy": "2024-10-26T16:12:23.013168Z",
          "iopub.execute_input": "2024-10-26T16:12:23.01358Z",
          "iopub.status.idle": "2024-10-26T16:23:51.522309Z",
          "shell.execute_reply.started": "2024-10-26T16:12:23.013537Z",
          "shell.execute_reply": "2024-10-26T16:23:51.521476Z"
        },
        "trusted": true,
        "id": "_cW1iWr7Qii5"
      },
      "execution_count": null,
      "outputs": []
    },
    {
      "cell_type": "code",
      "source": [
        "import torch\n",
        "from torch.utils.data import Dataset\n",
        "\n",
        "class ToxicCommentDataset(Dataset):\n",
        "    def __init__(self, encodings, labels):\n",
        "        self.encodings = encodings\n",
        "        self.labels = labels\n",
        "\n",
        "    def __len__(self):\n",
        "        return len(self.labels)\n",
        "\n",
        "    def __getitem__(self, idx):\n",
        "        item = {key: torch.tensor(val[idx]) for key, val in self.encodings.items()}\n",
        "        item['labels'] = torch.tensor(self.labels[idx])\n",
        "        return item\n",
        "\n",
        "# Create dataset objects for training and testing\n",
        "train_dataset = ToxicCommentDataset(train_encodings, y_train)\n",
        "test_dataset = ToxicCommentDataset(test_encodings, y_test)\n"
      ],
      "metadata": {
        "execution": {
          "iopub.status.busy": "2024-10-26T16:23:51.523672Z",
          "iopub.execute_input": "2024-10-26T16:23:51.524544Z",
          "iopub.status.idle": "2024-10-26T16:23:51.531576Z",
          "shell.execute_reply.started": "2024-10-26T16:23:51.524497Z",
          "shell.execute_reply": "2024-10-26T16:23:51.530622Z"
        },
        "trusted": true,
        "id": "SQw0zutHQii5"
      },
      "execution_count": null,
      "outputs": []
    },
    {
      "cell_type": "code",
      "source": [
        "from torch.utils.data import DataLoader\n",
        "\n",
        "# Define batch size\n",
        "batch_size = 16\n",
        "\n",
        "# Create DataLoader for train and test datasets\n",
        "train_loader = DataLoader(train_dataset, batch_size=batch_size, shuffle=True)\n",
        "test_loader = DataLoader(test_dataset, batch_size=batch_size, shuffle=False)\n"
      ],
      "metadata": {
        "execution": {
          "iopub.status.busy": "2024-10-26T16:23:51.532819Z",
          "iopub.execute_input": "2024-10-26T16:23:51.533475Z",
          "iopub.status.idle": "2024-10-26T16:23:51.549145Z",
          "shell.execute_reply.started": "2024-10-26T16:23:51.533429Z",
          "shell.execute_reply": "2024-10-26T16:23:51.548364Z"
        },
        "trusted": true,
        "id": "_RKyQcm5Qii5"
      },
      "execution_count": null,
      "outputs": []
    },
    {
      "cell_type": "code",
      "source": [
        "from transformers import BertForSequenceClassification\n",
        "\n",
        "# Load BERT model for sequence classification with 2 output labels (toxic or non-toxic)\n",
        "model = BertForSequenceClassification.from_pretrained('bert-base-uncased', num_labels=2)\n",
        "\n",
        "# Move model to GPU if available\n",
        "device = torch.device('cuda') if torch.cuda.is_available() else torch.device('cpu')\n",
        "model.to(device)\n"
      ],
      "metadata": {
        "execution": {
          "iopub.status.busy": "2024-10-26T16:23:51.554959Z",
          "iopub.execute_input": "2024-10-26T16:23:51.555421Z",
          "iopub.status.idle": "2024-10-26T16:23:54.346351Z",
          "shell.execute_reply.started": "2024-10-26T16:23:51.555379Z",
          "shell.execute_reply": "2024-10-26T16:23:54.345339Z"
        },
        "trusted": true,
        "id": "pjd-xmFRQii5",
        "outputId": "270c99b8-191c-4607-8b5c-d526e34a65ba",
        "colab": {
          "referenced_widgets": [
            "69cb7bdbdb58459d827b6d1a8fb0865a"
          ]
        }
      },
      "execution_count": null,
      "outputs": [
        {
          "output_type": "display_data",
          "data": {
            "text/plain": "model.safetensors:   0%|          | 0.00/440M [00:00<?, ?B/s]",
            "application/vnd.jupyter.widget-view+json": {
              "version_major": 2,
              "version_minor": 0,
              "model_id": "69cb7bdbdb58459d827b6d1a8fb0865a"
            }
          },
          "metadata": {}
        },
        {
          "name": "stderr",
          "text": "Some weights of BertForSequenceClassification were not initialized from the model checkpoint at bert-base-uncased and are newly initialized: ['classifier.bias', 'classifier.weight']\nYou should probably TRAIN this model on a down-stream task to be able to use it for predictions and inference.\n",
          "output_type": "stream"
        },
        {
          "execution_count": 28,
          "output_type": "execute_result",
          "data": {
            "text/plain": "BertForSequenceClassification(\n  (bert): BertModel(\n    (embeddings): BertEmbeddings(\n      (word_embeddings): Embedding(30522, 768, padding_idx=0)\n      (position_embeddings): Embedding(512, 768)\n      (token_type_embeddings): Embedding(2, 768)\n      (LayerNorm): LayerNorm((768,), eps=1e-12, elementwise_affine=True)\n      (dropout): Dropout(p=0.1, inplace=False)\n    )\n    (encoder): BertEncoder(\n      (layer): ModuleList(\n        (0-11): 12 x BertLayer(\n          (attention): BertAttention(\n            (self): BertSdpaSelfAttention(\n              (query): Linear(in_features=768, out_features=768, bias=True)\n              (key): Linear(in_features=768, out_features=768, bias=True)\n              (value): Linear(in_features=768, out_features=768, bias=True)\n              (dropout): Dropout(p=0.1, inplace=False)\n            )\n            (output): BertSelfOutput(\n              (dense): Linear(in_features=768, out_features=768, bias=True)\n              (LayerNorm): LayerNorm((768,), eps=1e-12, elementwise_affine=True)\n              (dropout): Dropout(p=0.1, inplace=False)\n            )\n          )\n          (intermediate): BertIntermediate(\n            (dense): Linear(in_features=768, out_features=3072, bias=True)\n            (intermediate_act_fn): GELUActivation()\n          )\n          (output): BertOutput(\n            (dense): Linear(in_features=3072, out_features=768, bias=True)\n            (LayerNorm): LayerNorm((768,), eps=1e-12, elementwise_affine=True)\n            (dropout): Dropout(p=0.1, inplace=False)\n          )\n        )\n      )\n    )\n    (pooler): BertPooler(\n      (dense): Linear(in_features=768, out_features=768, bias=True)\n      (activation): Tanh()\n    )\n  )\n  (dropout): Dropout(p=0.1, inplace=False)\n  (classifier): Linear(in_features=768, out_features=2, bias=True)\n)"
          },
          "metadata": {}
        }
      ]
    },
    {
      "cell_type": "code",
      "source": [
        "from transformers import AdamW\n",
        "from transformers import get_linear_schedule_with_warmup\n",
        "\n",
        "# Define the optimizer\n",
        "optimizer = AdamW(model.parameters(), lr=5e-5)\n",
        "\n",
        "# Total training steps = batches per epoch * number of epochs\n",
        "total_steps = len(train_loader) * 3  # Assuming 3 epochs\n",
        "\n",
        "# Learning rate scheduler\n",
        "scheduler = get_linear_schedule_with_warmup(optimizer,\n",
        "                                            num_warmup_steps=0,\n",
        "                                            num_training_steps=total_steps)\n"
      ],
      "metadata": {
        "execution": {
          "iopub.status.busy": "2024-10-26T16:23:54.347418Z",
          "iopub.execute_input": "2024-10-26T16:23:54.34771Z",
          "iopub.status.idle": "2024-10-26T16:23:54.770003Z",
          "shell.execute_reply.started": "2024-10-26T16:23:54.347678Z",
          "shell.execute_reply": "2024-10-26T16:23:54.768965Z"
        },
        "trusted": true,
        "id": "9hqByeLhQii6",
        "outputId": "d96a1504-5ba3-4ed9-d8be-727efff06ca2"
      },
      "execution_count": null,
      "outputs": [
        {
          "name": "stderr",
          "text": "/opt/conda/lib/python3.10/site-packages/transformers/optimization.py:591: FutureWarning: This implementation of AdamW is deprecated and will be removed in a future version. Use the PyTorch implementation torch.optim.AdamW instead, or set `no_deprecation_warning=True` to disable this warning\n  warnings.warn(\n",
          "output_type": "stream"
        }
      ]
    },
    {
      "cell_type": "code",
      "source": [
        "from torch.nn import CrossEntropyLoss\n",
        "from tqdm import tqdm  # For progress bars\n",
        "\n",
        "# Training function\n",
        "def train_model(model, train_loader, optimizer, scheduler, device):\n",
        "    model.train()  # Set model to training mode\n",
        "    total_loss = 0\n",
        "\n",
        "    for batch in tqdm(train_loader):\n",
        "        optimizer.zero_grad()  # Clear gradients\n",
        "\n",
        "        # Move batch to device (GPU or CPU)\n",
        "        input_ids = batch['input_ids'].to(device)\n",
        "        attention_mask = batch['attention_mask'].to(device)\n",
        "        labels = batch['labels'].to(device)\n",
        "\n",
        "        # Forward pass\n",
        "        outputs = model(input_ids=input_ids, attention_mask=attention_mask, labels=labels)\n",
        "        loss = outputs.loss\n",
        "\n",
        "        # Backward pass\n",
        "        loss.backward()\n",
        "        optimizer.step()\n",
        "        scheduler.step()\n",
        "\n",
        "        total_loss += loss.item()\n",
        "\n",
        "    avg_loss = total_loss / len(train_loader)\n",
        "    print(f\"Training loss: {avg_loss}\")\n",
        "\n",
        "# Train the model for a number of epochs\n",
        "epochs = 3\n",
        "for epoch in range(epochs):\n",
        "    print(f\"Epoch {epoch+1}/{epochs}\")\n",
        "    train_model(model, train_loader, optimizer, scheduler, device)\n"
      ],
      "metadata": {
        "execution": {
          "iopub.status.busy": "2024-10-26T16:23:54.771232Z",
          "iopub.execute_input": "2024-10-26T16:23:54.771553Z",
          "iopub.status.idle": "2024-10-26T18:42:02.394998Z",
          "shell.execute_reply.started": "2024-10-26T16:23:54.771518Z",
          "shell.execute_reply": "2024-10-26T18:42:02.394047Z"
        },
        "trusted": true,
        "id": "WsqS9mOAQii6",
        "outputId": "8bfdd18c-18fa-4661-9a93-0f217ebcb2a1"
      },
      "execution_count": null,
      "outputs": [
        {
          "name": "stdout",
          "text": "Epoch 1/3\n",
          "output_type": "stream"
        },
        {
          "name": "stderr",
          "text": "  0%|          | 0/14389 [00:00<?, ?it/s]/tmp/ipykernel_31/3991761066.py:13: UserWarning: To copy construct from a tensor, it is recommended to use sourceTensor.clone().detach() or sourceTensor.clone().detach().requires_grad_(True), rather than torch.tensor(sourceTensor).\n  item = {key: torch.tensor(val[idx]) for key, val in self.encodings.items()}\n100%|██████████| 14389/14389 [46:07<00:00,  5.20it/s]\n",
          "output_type": "stream"
        },
        {
          "name": "stdout",
          "text": "Training loss: 0.11009409261115717\nEpoch 2/3\n",
          "output_type": "stream"
        },
        {
          "name": "stderr",
          "text": "100%|██████████| 14389/14389 [46:00<00:00,  5.21it/s]\n",
          "output_type": "stream"
        },
        {
          "name": "stdout",
          "text": "Training loss: 0.030108030294061037\nEpoch 3/3\n",
          "output_type": "stream"
        },
        {
          "name": "stderr",
          "text": "100%|██████████| 14389/14389 [45:59<00:00,  5.21it/s]",
          "output_type": "stream"
        },
        {
          "name": "stdout",
          "text": "Training loss: 0.008473929323897813\n",
          "output_type": "stream"
        },
        {
          "name": "stderr",
          "text": "\n",
          "output_type": "stream"
        }
      ]
    },
    {
      "cell_type": "code",
      "source": [
        "from sklearn.metrics import accuracy_score, precision_score, recall_score, f1_score, classification_report\n"
      ],
      "metadata": {
        "execution": {
          "iopub.status.busy": "2024-10-26T18:42:02.396352Z",
          "iopub.execute_input": "2024-10-26T18:42:02.396674Z",
          "iopub.status.idle": "2024-10-26T18:42:02.40147Z",
          "shell.execute_reply.started": "2024-10-26T18:42:02.39664Z",
          "shell.execute_reply": "2024-10-26T18:42:02.400506Z"
        },
        "trusted": true,
        "id": "ezTDVIuUQii7"
      },
      "execution_count": null,
      "outputs": []
    },
    {
      "cell_type": "code",
      "source": [
        "import torch\n",
        "import torch.nn.functional as F\n",
        "from sklearn.metrics import classification_report, accuracy_score\n",
        "from torch.nn import CrossEntropyLoss\n",
        "\n",
        "# Evaluation function with loss and classification report\n",
        "def evaluate_model(model, test_loader, device):\n",
        "    model.eval()  # Set model to evaluation mode\n",
        "    predictions, true_labels = [], []\n",
        "    total_loss = 0  # Initialize total loss\n",
        "    loss_fn = CrossEntropyLoss()\n",
        "\n",
        "    with torch.no_grad():\n",
        "        for batch in test_loader:\n",
        "            input_ids = batch['input_ids'].to(device)\n",
        "            attention_mask = batch['attention_mask'].to(device)\n",
        "            labels = batch['labels'].to(device)\n",
        "\n",
        "            # Forward pass\n",
        "            outputs = model(input_ids=input_ids, attention_mask=attention_mask)\n",
        "            logits = outputs.logits\n",
        "\n",
        "            # Calculate loss for the batch\n",
        "            loss = loss_fn(logits, labels)\n",
        "            total_loss += loss.item()\n",
        "\n",
        "            # Get predictions\n",
        "            predicted_class = torch.argmax(logits, dim=1)\n",
        "            predictions.extend(predicted_class.cpu().numpy())\n",
        "            true_labels.extend(labels.cpu().numpy())\n",
        "\n",
        "    # Calculate accuracy\n",
        "    accuracy = accuracy_score(true_labels, predictions)\n",
        "\n",
        "    # Calculate average loss for the epoch\n",
        "    avg_loss = total_loss / len(test_loader)\n",
        "\n",
        "    # Classification report\n",
        "    class_report = classification_report(true_labels, predictions, target_names=['non-toxic', 'toxic'])\n",
        "\n",
        "    # Print evaluation results\n",
        "    print(f\"Test Accuracy: {accuracy}\")\n",
        "    print(f\"Average Loss: {avg_loss}\")\n",
        "    print(\"\\nClassification Report:\\n\", class_report)\n",
        "\n",
        "    return accuracy, avg_loss, class_report\n",
        "\n",
        "# Example of calling the evaluation function\n",
        "accuracy, avg_loss, class_report = evaluate_model(model, test_loader, device)\n"
      ],
      "metadata": {
        "execution": {
          "iopub.status.busy": "2024-10-26T18:42:02.402557Z",
          "iopub.execute_input": "2024-10-26T18:42:02.402934Z",
          "iopub.status.idle": "2024-10-26T18:45:14.791155Z",
          "shell.execute_reply.started": "2024-10-26T18:42:02.402902Z",
          "shell.execute_reply": "2024-10-26T18:45:14.790229Z"
        },
        "trusted": true,
        "id": "ttNSia0HQii7",
        "outputId": "4b6bef53-c311-47e6-a83f-a52fa5b75775"
      },
      "execution_count": null,
      "outputs": [
        {
          "name": "stderr",
          "text": "/tmp/ipykernel_31/3991761066.py:13: UserWarning: To copy construct from a tensor, it is recommended to use sourceTensor.clone().detach() or sourceTensor.clone().detach().requires_grad_(True), rather than torch.tensor(sourceTensor).\n  item = {key: torch.tensor(val[idx]) for key, val in self.encodings.items()}\n",
          "output_type": "stream"
        },
        {
          "name": "stdout",
          "text": "Test Accuracy: 0.9924592556555583\nAverage Loss: 0.03532861449410499\n\nClassification Report:\n               precision    recall  f1-score   support\n\n   non-toxic       1.00      0.99      0.99     28665\n       toxic       0.99      1.00      0.99     28889\n\n    accuracy                           0.99     57554\n   macro avg       0.99      0.99      0.99     57554\nweighted avg       0.99      0.99      0.99     57554\n\n",
          "output_type": "stream"
        }
      ]
    },
    {
      "cell_type": "code",
      "source": [
        "import torch\n",
        "import torch.nn.functional as F\n",
        "from sklearn.metrics import classification_report, accuracy_score, confusion_matrix\n",
        "from torch.nn import CrossEntropyLoss\n",
        "import seaborn as sns\n",
        "import matplotlib.pyplot as plt\n",
        "\n",
        "# Evaluation function with loss, classification report, and confusion matrix\n",
        "def evaluate_model(model, test_loader, device):\n",
        "    model.eval()  # Set model to evaluation mode\n",
        "    predictions, true_labels = [], []\n",
        "    total_loss = 0  # Initialize total loss\n",
        "    loss_fn = CrossEntropyLoss()\n",
        "\n",
        "    with torch.no_grad():\n",
        "        for batch in test_loader:\n",
        "            input_ids = batch['input_ids'].to(device)\n",
        "            attention_mask = batch['attention_mask'].to(device)\n",
        "            labels = batch['labels'].to(device)\n",
        "\n",
        "            # Forward pass\n",
        "            outputs = model(input_ids=input_ids, attention_mask=attention_mask)\n",
        "            logits = outputs.logits\n",
        "\n",
        "            # Calculate loss for the batch\n",
        "            loss = loss_fn(logits, labels)\n",
        "            total_loss += loss.item()\n",
        "\n",
        "            # Get predictions\n",
        "            predicted_class = torch.argmax(logits, dim=1)\n",
        "            predictions.extend(predicted_class.cpu().numpy())\n",
        "            true_labels.extend(labels.cpu().numpy())\n",
        "\n",
        "    # Calculate accuracy\n",
        "    accuracy = accuracy_score(true_labels, predictions)\n",
        "\n",
        "    # Calculate average loss for the epoch\n",
        "    avg_loss = total_loss / len(test_loader)\n",
        "\n",
        "    # Classification report\n",
        "    class_report = classification_report(true_labels, predictions, target_names=['non-toxic', 'toxic'])\n",
        "\n",
        "    # Confusion matrix\n",
        "    cm = confusion_matrix(true_labels, predictions)\n",
        "\n",
        "    # Print evaluation results\n",
        "    print(f\"Test Accuracy: {accuracy}\")\n",
        "    print(f\"Average Loss: {avg_loss}\")\n",
        "    print(\"\\nClassification Report:\\n\", class_report)\n",
        "\n",
        "    # Plot confusion matrix\n",
        "    plt.figure(figsize=(6, 4))\n",
        "    sns.heatmap(cm, annot=True, fmt='d', cmap='Blues', xticklabels=['non-toxic', 'toxic'], yticklabels=['non-toxic', 'toxic'])\n",
        "    plt.xlabel('Predicted Labels')\n",
        "    plt.ylabel('True Labels')\n",
        "    plt.title('Confusion Matrix')\n",
        "    plt.show()\n",
        "\n",
        "    return accuracy, avg_loss, class_report, cm\n",
        "\n",
        "# Example of calling the evaluation function\n",
        "accuracy, avg_loss, class_report, cm = evaluate_model(model, test_loader, device)\n"
      ],
      "metadata": {
        "execution": {
          "iopub.status.busy": "2024-10-26T18:56:47.523509Z",
          "iopub.execute_input": "2024-10-26T18:56:47.523914Z",
          "iopub.status.idle": "2024-10-26T19:00:00.465327Z",
          "shell.execute_reply.started": "2024-10-26T18:56:47.523876Z",
          "shell.execute_reply": "2024-10-26T19:00:00.464335Z"
        },
        "trusted": true,
        "id": "cs1eZ--OQii8",
        "outputId": "07bafb77-6bf1-43ca-f43b-ac35ccf151db"
      },
      "execution_count": null,
      "outputs": [
        {
          "name": "stderr",
          "text": "/tmp/ipykernel_31/3991761066.py:13: UserWarning: To copy construct from a tensor, it is recommended to use sourceTensor.clone().detach() or sourceTensor.clone().detach().requires_grad_(True), rather than torch.tensor(sourceTensor).\n  item = {key: torch.tensor(val[idx]) for key, val in self.encodings.items()}\n",
          "output_type": "stream"
        },
        {
          "name": "stdout",
          "text": "Test Accuracy: 0.9924592556555583\nAverage Loss: 0.03532861449410499\n\nClassification Report:\n               precision    recall  f1-score   support\n\n   non-toxic       1.00      0.99      0.99     28665\n       toxic       0.99      1.00      0.99     28889\n\n    accuracy                           0.99     57554\n   macro avg       0.99      0.99      0.99     57554\nweighted avg       0.99      0.99      0.99     57554\n\n",
          "output_type": "stream"
        },
        {
          "output_type": "display_data",
          "data": {
            "text/plain": "<Figure size 600x400 with 2 Axes>",
            "image/png": "[encoded data removed]"
          },
          "metadata": {}
        }
      ]
    },
    {
      "cell_type": "code",
      "source": [
        "import torch\n",
        "\n",
        "# Saving the model\n",
        "def save_model(model, file_path):\n",
        "    \"\"\"\n",
        "    Save the model state_dict to a file.\n",
        "    Args:\n",
        "        model (torch.nn.Module): The model to be saved.\n",
        "        file_path (str): Path where the model will be saved.\n",
        "    \"\"\"\n",
        "    torch.save(model.state_dict(), file_path)\n",
        "    print(f\"Model saved to {file_path}\")\n",
        "\n",
        "# Example usage\n",
        "save_model(model, \"bert_toxic_classification_model.pth\")\n"
      ],
      "metadata": {
        "execution": {
          "iopub.status.busy": "2024-10-26T19:00:12.689158Z",
          "iopub.execute_input": "2024-10-26T19:00:12.689586Z",
          "iopub.status.idle": "2024-10-26T19:00:13.644007Z",
          "shell.execute_reply.started": "2024-10-26T19:00:12.689547Z",
          "shell.execute_reply": "2024-10-26T19:00:13.642819Z"
        },
        "trusted": true,
        "id": "OGNQSOh8Qii8",
        "outputId": "71f79064-93a8-4dcb-85c8-d9ed7286df16"
      },
      "execution_count": null,
      "outputs": [
        {
          "name": "stdout",
          "text": "Model saved to bert_toxic_classification_model.pth\n",
          "output_type": "stream"
        }
      ]
    }
  ]
}